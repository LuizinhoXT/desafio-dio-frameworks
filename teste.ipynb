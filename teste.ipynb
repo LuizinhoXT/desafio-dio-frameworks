{
  "nbformat": 4,
  "nbformat_minor": 0,
  "metadata": {
    "colab": {
      "provenance": [],
      "authorship_tag": "ABX9TyO6ueO/2sjDhpex3wrKg7Xy",
      "include_colab_link": true
    },
    "kernelspec": {
      "name": "python3",
      "display_name": "Python 3"
    },
    "language_info": {
      "name": "python"
    }
  },
  "cells": [
    {
      "cell_type": "markdown",
      "metadata": {
        "id": "view-in-github",
        "colab_type": "text"
      },
      "source": [
        "<a href=\"https://colab.research.google.com/github/LuizinhoXT/desafio-dio-frameworks/blob/main/teste.ipynb\" target=\"_parent\"><img src=\"https://colab.research.google.com/assets/colab-badge.svg\" alt=\"Open In Colab\"/></a>"
      ]
    },
    {
      "cell_type": "code",
      "execution_count": null,
      "metadata": {
        "id": "Xtb0AODEjO01"
      },
      "outputs": [],
      "source": [
        "# Instalando as bibliotecas necessárias\n",
        "!pip install flask\n",
        "\n",
        "!pip install flask-ngrok"
      ]
    },
    {
      "cell_type": "code",
      "source": [
        "# Instlando também o pyngrok, reponsável por possibilitar a instalação da authtoken\n",
        "# A authtoken é responsável por criar e abrir a porta da máquina para criar um tunnel\n",
        "\n",
        "!pip install fastapi nest-asyncio pyngrok uvicorn"
      ],
      "metadata": {
        "id": "QqtXCFst1i4B"
      },
      "execution_count": null,
      "outputs": []
    },
    {
      "cell_type": "code",
      "source": [
        "# Instalando a authtoken, que premitirá o caminho de conexão\n",
        "!ngrok config add-authtoken 2Trp1dSiKoPb6f33bb7Pest6kxg_6zap1XT2RDXqYTAMb14dB"
      ],
      "metadata": {
        "colab": {
          "base_uri": "https://localhost:8080/"
        },
        "id": "ZJtKnLrsyPG6",
        "outputId": "c2dec1a8-ca4b-49d7-9aad-99d2e006fb20"
      },
      "execution_count": 49,
      "outputs": [
        {
          "output_type": "stream",
          "name": "stdout",
          "text": [
            "Authtoken saved to configuration file: /root/.ngrok2/ngrok.yml\n"
          ]
        }
      ]
    },
    {
      "cell_type": "code",
      "source": [
        "import pandas as pd\n",
        "from flask import *\n",
        "from flask_ngrok import run_with_ngrok\n",
        "\n",
        "# Criando um data frame para ler e armazenar a planilha com os dados\n",
        "\n",
        "data_frame = pd.read_excel('Dados_teste.xlsx')\n",
        "\n",
        "# Criando uma string que recebe o data_frame convertido em JSON\n",
        "\n",
        "str_json = data_frame.to_json()\n",
        "\n",
        "app = Flask(__name__)\n",
        "\n",
        "# Definindo a rota de conexão da API\n",
        "\n",
        "@app.route('/index')\n",
        "\n",
        "# Retornando a string JSON convertida a partir da planilha de dados\n",
        "\n",
        "def home():\n",
        "  return str_json\n",
        "\n",
        "run_with_ngrok(app)\n",
        "\n",
        "app.run()"
      ],
      "metadata": {
        "colab": {
          "base_uri": "https://localhost:8080/"
        },
        "id": "9Na-o0HOmcW7",
        "outputId": "42ca70ac-be7b-4100-bc51-bada1078ebc0"
      },
      "execution_count": 52,
      "outputs": [
        {
          "output_type": "stream",
          "name": "stdout",
          "text": [
            " * Serving Flask app '__main__'\n",
            " * Debug mode: off\n"
          ]
        },
        {
          "output_type": "stream",
          "name": "stderr",
          "text": [
            "INFO:werkzeug:\u001b[31m\u001b[1mWARNING: This is a development server. Do not use it in a production deployment. Use a production WSGI server instead.\u001b[0m\n",
            " * Running on http://127.0.0.1:5000\n",
            "INFO:werkzeug:\u001b[33mPress CTRL+C to quit\u001b[0m\n"
          ]
        },
        {
          "output_type": "stream",
          "name": "stdout",
          "text": [
            " * Running on http://a2fc-35-185-53-246.ngrok-free.app\n",
            " * Traffic stats available on http://127.0.0.1:4040\n"
          ]
        }
      ]
    },
    {
      "cell_type": "code",
      "source": [],
      "metadata": {
        "id": "DAoG77T45mZg"
      },
      "execution_count": null,
      "outputs": []
    }
  ]
}